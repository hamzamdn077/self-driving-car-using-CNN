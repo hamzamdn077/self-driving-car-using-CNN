{
 "cells": [
  {
   "cell_type": "code",
   "execution_count": 83,
   "id": "8c68899b-6127-41be-88ab-f00695b0e04f",
   "metadata": {},
   "outputs": [],
   "source": [
    "import random\n",
    "import ntpath\n",
    "import os \n",
    "import cv2\n",
    "import pandas as pd \n",
    "import numpy as np\n",
    "import matplotlib.image as mpimg\n",
    "import matplotlib.pyplot as plt\n",
    "from sklearn.utils import shuffle\n",
    "from sklearn.model_selection import train_test_split\n",
    "from imgaug import augmenters as iaa\n",
    "import keras\n",
    "from tensorflow.keras.models import Sequential\n",
    "from tensorflow.keras.optimizers import Adam\n",
    "from tensorflow.keras.layers import Convolution2D, MaxPooling2D, Dropout, Flatten, Dense"
   ]
  },
  {
   "cell_type": "code",
   "execution_count": 14,
   "id": "d9f0b438-0a26-4611-93b0-9a34a84a37f3",
   "metadata": {},
   "outputs": [],
   "source": [
    "cols =['center','left','right','steering','throttle','reverse','speed']"
   ]
  },
  {
   "cell_type": "code",
   "execution_count": 15,
   "id": "be83d2ef-2adf-4591-a98f-040e7b285761",
   "metadata": {},
   "outputs": [],
   "source": [
    "df = pd.read_csv('driving_log.csv',names=cols)"
   ]
  },
  {
   "cell_type": "code",
   "execution_count": 16,
   "id": "8fb5f0a5-9ea6-4d2a-a190-815931705201",
   "metadata": {},
   "outputs": [
    {
     "data": {
      "text/html": [
       "<div>\n",
       "<style scoped>\n",
       "    .dataframe tbody tr th:only-of-type {\n",
       "        vertical-align: middle;\n",
       "    }\n",
       "\n",
       "    .dataframe tbody tr th {\n",
       "        vertical-align: top;\n",
       "    }\n",
       "\n",
       "    .dataframe thead th {\n",
       "        text-align: right;\n",
       "    }\n",
       "</style>\n",
       "<table border=\"1\" class=\"dataframe\">\n",
       "  <thead>\n",
       "    <tr style=\"text-align: right;\">\n",
       "      <th></th>\n",
       "      <th>center</th>\n",
       "      <th>left</th>\n",
       "      <th>right</th>\n",
       "      <th>steering</th>\n",
       "      <th>throttle</th>\n",
       "      <th>reverse</th>\n",
       "      <th>speed</th>\n",
       "    </tr>\n",
       "  </thead>\n",
       "  <tbody>\n",
       "    <tr>\n",
       "      <th>0</th>\n",
       "      <td>C:\\Users\\Hamza\\Documents\\IMG\\center_2024_08_23...</td>\n",
       "      <td>C:\\Users\\Hamza\\Documents\\IMG\\left_2024_08_23_1...</td>\n",
       "      <td>C:\\Users\\Hamza\\Documents\\IMG\\right_2024_08_23_...</td>\n",
       "      <td>0.0</td>\n",
       "      <td>0.000000</td>\n",
       "      <td>0</td>\n",
       "      <td>6.720634</td>\n",
       "    </tr>\n",
       "    <tr>\n",
       "      <th>1</th>\n",
       "      <td>C:\\Users\\Hamza\\Documents\\IMG\\center_2024_08_23...</td>\n",
       "      <td>C:\\Users\\Hamza\\Documents\\IMG\\left_2024_08_23_1...</td>\n",
       "      <td>C:\\Users\\Hamza\\Documents\\IMG\\right_2024_08_23_...</td>\n",
       "      <td>0.0</td>\n",
       "      <td>0.214019</td>\n",
       "      <td>0</td>\n",
       "      <td>6.775555</td>\n",
       "    </tr>\n",
       "    <tr>\n",
       "      <th>2</th>\n",
       "      <td>C:\\Users\\Hamza\\Documents\\IMG\\center_2024_08_23...</td>\n",
       "      <td>C:\\Users\\Hamza\\Documents\\IMG\\left_2024_08_23_1...</td>\n",
       "      <td>C:\\Users\\Hamza\\Documents\\IMG\\right_2024_08_23_...</td>\n",
       "      <td>0.0</td>\n",
       "      <td>0.423140</td>\n",
       "      <td>0</td>\n",
       "      <td>7.042279</td>\n",
       "    </tr>\n",
       "    <tr>\n",
       "      <th>3</th>\n",
       "      <td>C:\\Users\\Hamza\\Documents\\IMG\\center_2024_08_23...</td>\n",
       "      <td>C:\\Users\\Hamza\\Documents\\IMG\\left_2024_08_23_1...</td>\n",
       "      <td>C:\\Users\\Hamza\\Documents\\IMG\\right_2024_08_23_...</td>\n",
       "      <td>0.0</td>\n",
       "      <td>0.635189</td>\n",
       "      <td>0</td>\n",
       "      <td>7.396773</td>\n",
       "    </tr>\n",
       "    <tr>\n",
       "      <th>4</th>\n",
       "      <td>C:\\Users\\Hamza\\Documents\\IMG\\center_2024_08_23...</td>\n",
       "      <td>C:\\Users\\Hamza\\Documents\\IMG\\left_2024_08_23_1...</td>\n",
       "      <td>C:\\Users\\Hamza\\Documents\\IMG\\right_2024_08_23_...</td>\n",
       "      <td>0.0</td>\n",
       "      <td>0.888528</td>\n",
       "      <td>0</td>\n",
       "      <td>8.282928</td>\n",
       "    </tr>\n",
       "  </tbody>\n",
       "</table>\n",
       "</div>"
      ],
      "text/plain": [
       "                                              center  \\\n",
       "0  C:\\Users\\Hamza\\Documents\\IMG\\center_2024_08_23...   \n",
       "1  C:\\Users\\Hamza\\Documents\\IMG\\center_2024_08_23...   \n",
       "2  C:\\Users\\Hamza\\Documents\\IMG\\center_2024_08_23...   \n",
       "3  C:\\Users\\Hamza\\Documents\\IMG\\center_2024_08_23...   \n",
       "4  C:\\Users\\Hamza\\Documents\\IMG\\center_2024_08_23...   \n",
       "\n",
       "                                                left  \\\n",
       "0  C:\\Users\\Hamza\\Documents\\IMG\\left_2024_08_23_1...   \n",
       "1  C:\\Users\\Hamza\\Documents\\IMG\\left_2024_08_23_1...   \n",
       "2  C:\\Users\\Hamza\\Documents\\IMG\\left_2024_08_23_1...   \n",
       "3  C:\\Users\\Hamza\\Documents\\IMG\\left_2024_08_23_1...   \n",
       "4  C:\\Users\\Hamza\\Documents\\IMG\\left_2024_08_23_1...   \n",
       "\n",
       "                                               right  steering  throttle  \\\n",
       "0  C:\\Users\\Hamza\\Documents\\IMG\\right_2024_08_23_...       0.0  0.000000   \n",
       "1  C:\\Users\\Hamza\\Documents\\IMG\\right_2024_08_23_...       0.0  0.214019   \n",
       "2  C:\\Users\\Hamza\\Documents\\IMG\\right_2024_08_23_...       0.0  0.423140   \n",
       "3  C:\\Users\\Hamza\\Documents\\IMG\\right_2024_08_23_...       0.0  0.635189   \n",
       "4  C:\\Users\\Hamza\\Documents\\IMG\\right_2024_08_23_...       0.0  0.888528   \n",
       "\n",
       "   reverse     speed  \n",
       "0        0  6.720634  \n",
       "1        0  6.775555  \n",
       "2        0  7.042279  \n",
       "3        0  7.396773  \n",
       "4        0  8.282928  "
      ]
     },
     "execution_count": 16,
     "metadata": {},
     "output_type": "execute_result"
    }
   ],
   "source": [
    "df.head()"
   ]
  },
  {
   "cell_type": "code",
   "execution_count": 17,
   "id": "2646fe0f-5e37-47a5-b6f6-3910d4ff4953",
   "metadata": {},
   "outputs": [],
   "source": [
    "def get_tail(path):\n",
    "  _, tail = ntpath.split(path)\n",
    "  return tail"
   ]
  },
  {
   "cell_type": "code",
   "execution_count": 18,
   "id": "8888c155-8037-4c50-b7ba-5afbb3e5ce6f",
   "metadata": {},
   "outputs": [
    {
     "data": {
      "text/html": [
       "<div>\n",
       "<style scoped>\n",
       "    .dataframe tbody tr th:only-of-type {\n",
       "        vertical-align: middle;\n",
       "    }\n",
       "\n",
       "    .dataframe tbody tr th {\n",
       "        vertical-align: top;\n",
       "    }\n",
       "\n",
       "    .dataframe thead th {\n",
       "        text-align: right;\n",
       "    }\n",
       "</style>\n",
       "<table border=\"1\" class=\"dataframe\">\n",
       "  <thead>\n",
       "    <tr style=\"text-align: right;\">\n",
       "      <th></th>\n",
       "      <th>center</th>\n",
       "      <th>left</th>\n",
       "      <th>right</th>\n",
       "      <th>steering</th>\n",
       "      <th>throttle</th>\n",
       "      <th>reverse</th>\n",
       "      <th>speed</th>\n",
       "    </tr>\n",
       "  </thead>\n",
       "  <tbody>\n",
       "    <tr>\n",
       "      <th>0</th>\n",
       "      <td>center_2024_08_23_16_49_38_474.jpg</td>\n",
       "      <td>left_2024_08_23_16_49_38_474.jpg</td>\n",
       "      <td>right_2024_08_23_16_49_38_474.jpg</td>\n",
       "      <td>0.0</td>\n",
       "      <td>0.000000</td>\n",
       "      <td>0</td>\n",
       "      <td>6.720634</td>\n",
       "    </tr>\n",
       "    <tr>\n",
       "      <th>1</th>\n",
       "      <td>center_2024_08_23_16_49_38_543.jpg</td>\n",
       "      <td>left_2024_08_23_16_49_38_543.jpg</td>\n",
       "      <td>right_2024_08_23_16_49_38_543.jpg</td>\n",
       "      <td>0.0</td>\n",
       "      <td>0.214019</td>\n",
       "      <td>0</td>\n",
       "      <td>6.775555</td>\n",
       "    </tr>\n",
       "    <tr>\n",
       "      <th>2</th>\n",
       "      <td>center_2024_08_23_16_49_38_613.jpg</td>\n",
       "      <td>left_2024_08_23_16_49_38_613.jpg</td>\n",
       "      <td>right_2024_08_23_16_49_38_613.jpg</td>\n",
       "      <td>0.0</td>\n",
       "      <td>0.423140</td>\n",
       "      <td>0</td>\n",
       "      <td>7.042279</td>\n",
       "    </tr>\n",
       "    <tr>\n",
       "      <th>3</th>\n",
       "      <td>center_2024_08_23_16_49_38_683.jpg</td>\n",
       "      <td>left_2024_08_23_16_49_38_683.jpg</td>\n",
       "      <td>right_2024_08_23_16_49_38_683.jpg</td>\n",
       "      <td>0.0</td>\n",
       "      <td>0.635189</td>\n",
       "      <td>0</td>\n",
       "      <td>7.396773</td>\n",
       "    </tr>\n",
       "    <tr>\n",
       "      <th>4</th>\n",
       "      <td>center_2024_08_23_16_49_38_770.jpg</td>\n",
       "      <td>left_2024_08_23_16_49_38_770.jpg</td>\n",
       "      <td>right_2024_08_23_16_49_38_770.jpg</td>\n",
       "      <td>0.0</td>\n",
       "      <td>0.888528</td>\n",
       "      <td>0</td>\n",
       "      <td>8.282928</td>\n",
       "    </tr>\n",
       "  </tbody>\n",
       "</table>\n",
       "</div>"
      ],
      "text/plain": [
       "                               center                              left  \\\n",
       "0  center_2024_08_23_16_49_38_474.jpg  left_2024_08_23_16_49_38_474.jpg   \n",
       "1  center_2024_08_23_16_49_38_543.jpg  left_2024_08_23_16_49_38_543.jpg   \n",
       "2  center_2024_08_23_16_49_38_613.jpg  left_2024_08_23_16_49_38_613.jpg   \n",
       "3  center_2024_08_23_16_49_38_683.jpg  left_2024_08_23_16_49_38_683.jpg   \n",
       "4  center_2024_08_23_16_49_38_770.jpg  left_2024_08_23_16_49_38_770.jpg   \n",
       "\n",
       "                               right  steering  throttle  reverse     speed  \n",
       "0  right_2024_08_23_16_49_38_474.jpg       0.0  0.000000        0  6.720634  \n",
       "1  right_2024_08_23_16_49_38_543.jpg       0.0  0.214019        0  6.775555  \n",
       "2  right_2024_08_23_16_49_38_613.jpg       0.0  0.423140        0  7.042279  \n",
       "3  right_2024_08_23_16_49_38_683.jpg       0.0  0.635189        0  7.396773  \n",
       "4  right_2024_08_23_16_49_38_770.jpg       0.0  0.888528        0  8.282928  "
      ]
     },
     "execution_count": 18,
     "metadata": {},
     "output_type": "execute_result"
    }
   ],
   "source": [
    "df['center'] = df['center'].apply(get_tail)\n",
    "df['left'] = df['left'].apply(get_tail)\n",
    "df['right'] = df['right'].apply(get_tail)\n",
    "df.head()"
   ]
  },
  {
   "cell_type": "code",
   "execution_count": 20,
   "id": "b5c38bfe-40be-4189-b12f-7661fc6f41b4",
   "metadata": {},
   "outputs": [],
   "source": [
    "num_bins = 25\n",
    "samples_per_bin = 400\n",
    "hist, bins = np.histogram(df['steering'], num_bins)"
   ]
  },
  {
   "cell_type": "code",
   "execution_count": 31,
   "id": "bda5ce39-bcf0-43d3-b10e-7c7cd5a75fef",
   "metadata": {},
   "outputs": [
    {
     "data": {
      "text/plain": [
       "[<matplotlib.lines.Line2D at 0x23f599db610>]"
      ]
     },
     "execution_count": 31,
     "metadata": {},
     "output_type": "execute_result"
    },
    {
     "data": {
      "image/png": "[encoded data removed]",
      "text/plain": [
       "<Figure size 640x480 with 1 Axes>"
      ]
     },
     "metadata": {},
     "output_type": "display_data"
    }
   ],
   "source": [
    "center = (bins[:-1]+ bins[1:]) * 0.5\n",
    "plt.bar(center, hist, width=0.05)\n",
    "plt.plot((np.min(df['steering']), np.max(df['steering'])), \\\n",
    "(samples_per_bin, samples_per_bin))"
   ]
  },
  {
   "cell_type": "code",
   "execution_count": 36,
   "id": "adee8451-9e8a-45ab-9f31-395591866d68",
   "metadata": {},
   "outputs": [
    {
     "name": "stdout",
     "output_type": "stream",
     "text": [
      "removed: 2207\n"
     ]
    }
   ],
   "source": [
    "remove_list = []\n",
    "for j in range(num_bins):\n",
    "  list_ = []\n",
    "  for i in range(len(df['steering'])):\n",
    "    if df['steering'][i] >= bins[j] and df['steering'][i] <= bins[j+1]:\n",
    "      list_.append(i)\n",
    "  list_ = shuffle(list_)\n",
    "  list_ = list_[samples_per_bin:]\n",
    "  remove_list.extend(list_)\n",
    "print('removed:', len(remove_list))"
   ]
  },
  {
   "cell_type": "code",
   "execution_count": 40,
   "id": "87401344-72c3-4e81-b896-611267a040bd",
   "metadata": {},
   "outputs": [
    {
     "name": "stdout",
     "output_type": "stream",
     "text": [
      "remaining: 1146\n"
     ]
    }
   ],
   "source": [
    "df.drop(df.index[remove_list], inplace=True)\n",
    "print('remaining:', len(df))"
   ]
  },
  {
   "cell_type": "code",
   "execution_count": 43,
   "id": "069331d6-6682-414b-814e-d2ea79be7ff6",
   "metadata": {},
   "outputs": [
    {
     "data": {
      "text/plain": [
       "[<matplotlib.lines.Line2D at 0x23f5c2c65d0>]"
      ]
     },
     "execution_count": 43,
     "metadata": {},
     "output_type": "execute_result"
    },
    {
     "data": {
      "image/png": "[encoded data removed]",
      "text/plain": [
       "<Figure size 640x480 with 1 Axes>"
      ]
     },
     "metadata": {},
     "output_type": "display_data"
    }
   ],
   "source": [
    "hist, _ = np.histogram(df['steering'], (num_bins))\n",
    "plt.bar(center, hist, width=0.05)\n",
    "plt.plot((np.min(df['steering']), np.max(df['steering'])), \\\n",
    "(samples_per_bin, samples_per_bin))"
   ]
  },
  {
   "cell_type": "code",
   "execution_count": 46,
   "id": "d9bebea6-d404-4365-b7c6-2ca871b2dc25",
   "metadata": {},
   "outputs": [],
   "source": [
    "datadir = ''\n",
    "def load_img_steering(datadir, df):\n",
    "    image_paths = []\n",
    "    steerings = []\n",
    "    for index, row in df.iterrows():\n",
    "        center, left, right, steering_angle = row[:4]\n",
    "        image_paths.extend([\n",
    "            os.path.join(datadir, center.strip()),\n",
    "            os.path.join(datadir, left.strip()),\n",
    "            os.path.join(datadir, right.strip())\n",
    "        ])\n",
    "        steerings.extend([\n",
    "            float(steering_angle),\n",
    "            float(steering_angle) + 0.15,\n",
    "            float(steering_angle) - 0.15\n",
    "        ])\n",
    "    return np.array(image_paths), np.array(steerings)\n",
    "image_paths, steerings = load_img_steering(datadir + 'IMG', df)"
   ]
  },
  {
   "cell_type": "code",
   "execution_count": 52,
   "id": "27277280-e99f-4caa-9634-50792e529355",
   "metadata": {},
   "outputs": [],
   "source": [
    "X_train, X_test, y_train, y_test = train_test_split(image_paths, steerings, test_size=0.2, random_state=404)"
   ]
  },
  {
   "cell_type": "code",
   "execution_count": 53,
   "id": "4607471d-af49-49ca-9719-f2c21bb8001f",
   "metadata": {},
   "outputs": [
    {
     "data": {
      "text/plain": [
       "Text(0.5, 1.0, 'Validation set')"
      ]
     },
     "execution_count": 53,
     "metadata": {},
     "output_type": "execute_result"
    },
    {
     "data": {
      "image/png": "[encoded data removed]",
      "text/plain": [
       "<Figure size 1200x400 with 2 Axes>"
      ]
     },
     "metadata": {},
     "output_type": "display_data"
    }
   ],
   "source": [
    "fig, axes = plt.subplots(1, 2, figsize=(12, 4))\n",
    "axes[0].hist(y_train, bins=num_bins, width=0.05, color='blue')\n",
    "axes[0].set_title('Training set')\n",
    "axes[1].hist(y_test, bins=num_bins, width=0.05, color='red')\n",
    "axes[1].set_title('Validation set')"
   ]
  },
  {
   "cell_type": "code",
   "execution_count": 57,
   "id": "d74ec7fa-82a8-4fbe-8031-944da3fcabb7",
   "metadata": {},
   "outputs": [],
   "source": [
    "def zoom(image):\n",
    "    return iaa.Affine(scale=(1, 1.3)).augment_image(image)\n",
    "\n",
    "def pan(image):\n",
    "    return iaa.Affine(translate_percent={\"x\": (-0.1, 0.1), \"y\": (-0.1, 0.1)}).augment_image(image)\n",
    "\n",
    "def img_random_brightness(image):\n",
    "    return iaa.Multiply((0.2, 1.2)).augment_image(image)\n",
    "\n",
    "def img_random_flip(image, steering_angle):\n",
    "    return cv2.flip(image, 1), -steering_angle"
   ]
  },
  {
   "cell_type": "code",
   "execution_count": 79,
   "id": "649d707a-fd09-4220-a3c0-116d5828b1c5",
   "metadata": {},
   "outputs": [],
   "source": [
    "def random_augment(image, steering_angle):\n",
    "    image = mpimg.imread(image)\n",
    "    if random.random() < 0.5: image = pan(image)\n",
    "    if random.random() < 0.5: image = zoom(image)\n",
    "    if random.random() < 0.5: image = img_random_brightness(image)\n",
    "    if random.random() < 0.5: image, steering_angle = img_random_flip(image, steering_angle)\n",
    "    return image, steering_angle"
   ]
  },
  {
   "cell_type": "code",
   "execution_count": 59,
   "id": "190f1258-9525-458d-84aa-b96703ae919b",
   "metadata": {},
   "outputs": [],
   "source": [
    "def img_preprocess(img):\n",
    "    img = cv2.cvtColor(img[60:135, :, :], cv2.COLOR_RGB2YUV)\n",
    "    img = cv2.GaussianBlur(img, (3, 3), 0)\n",
    "    return cv2.resize(img, (200, 66)) / 255.0"
   ]
  },
  {
   "cell_type": "code",
   "execution_count": 81,
   "id": "82df0053-071d-47a8-82cc-f059dc37b76c",
   "metadata": {},
   "outputs": [],
   "source": [
    "def batch_generator(image_paths, steering_angles, batch_size, is_training):\n",
    "    while True:\n",
    "        batch_images, batch_steering = [], []\n",
    "        for _ in range(batch_size):\n",
    "            index = random.randint(0, len(image_paths) - 1)\n",
    "            image_path = image_paths[index]\n",
    "            steering_angle = steering_angles[index]\n",
    "            \n",
    "            if is_training:\n",
    "                img = mpimg.imread(image_path)\n",
    "                img, steering_angle = random_augment(image_path, steering_angle)\n",
    "            else:\n",
    "                img = mpimg.imread(image_path)\n",
    "            \n",
    "            img = img_preprocess(img)\n",
    "            batch_images.append(img)\n",
    "            batch_steering.append(steering_angle)\n",
    "        \n",
    "        yield np.array(batch_images), np.array(batch_steering)"
   ]
  },
  {
   "cell_type": "code",
   "execution_count": 74,
   "id": "962451a9-f0b5-4252-a947-4882ee4282c0",
   "metadata": {},
   "outputs": [],
   "source": [
    "def nvidiaModel():\n",
    "  model = Sequential()\n",
    "  model.add(Convolution2D(24,(5,5),strides=(2,2),input_shape=(66,200,3),activation=\"elu\"))\n",
    "  model.add(Convolution2D(36,(5,5),strides=(2,2),activation=\"elu\"))\n",
    "  model.add(Convolution2D(48,(5,5),strides=(2,2),activation=\"elu\")) \n",
    "  model.add(Convolution2D(64,(3,3),activation=\"elu\"))   \n",
    "  model.add(Convolution2D(64,(3,3),activation=\"elu\"))\n",
    "  model.add(Dropout(0.5))\n",
    "  model.add(Flatten())\n",
    "  model.add(Dense(100,activation=\"elu\"))\n",
    "  model.add(Dropout(0.5))\n",
    "  model.add(Dense(50,activation=\"elu\"))\n",
    "  model.add(Dropout(0.5))\n",
    "  model.add(Dense(10,activation=\"elu\"))\n",
    "  model.add(Dropout(0.5))\n",
    "  model.add(Dense(1))\n",
    "  model.compile(optimizer=Adam(learning_rate=1e-3),loss=\"mse\")\n",
    "  return model"
   ]
  },
  {
   "cell_type": "code",
   "execution_count": 75,
   "id": "90dae5e7-1a42-45cb-871a-3d369409f29d",
   "metadata": {},
   "outputs": [
    {
     "name": "stderr",
     "output_type": "stream",
     "text": [
      "C:\\Users\\Hamza\\AppData\\Local\\anaconda3\\Lib\\site-packages\\keras\\src\\layers\\convolutional\\base_conv.py:99: UserWarning: Do not pass an `input_shape`/`input_dim` argument to a layer. When using Sequential models, prefer using an `Input(shape)` object as the first layer in the model instead.\n",
      "  super().__init__(\n"
     ]
    },
    {
     "data": {
      "text/html": [
       "<pre style=\"white-space:pre;overflow-x:auto;line-height:normal;font-family:Menlo,'DejaVu Sans Mono',consolas,'Courier New',monospace\"><span style=\"font-weight: bold\">Model: \"sequential_2\"</span>\n",
       "</pre>\n"
      ],
      "text/plain": [
       "\u001b[1mModel: \"sequential_2\"\u001b[0m\n"
      ]
     },
     "metadata": {},
     "output_type": "display_data"
    },
    {
     "data": {
      "text/html": [
       "<pre style=\"white-space:pre;overflow-x:auto;line-height:normal;font-family:Menlo,'DejaVu Sans Mono',consolas,'Courier New',monospace\">┏━━━━━━━━━━━━━━━━━━━━━━━━━━━━━━━━━━━━━━┳━━━━━━━━━━━━━━━━━━━━━━━━━━━━━┳━━━━━━━━━━━━━━━━━┓\n",
       "┃<span style=\"font-weight: bold\"> Layer (type)                         </span>┃<span style=\"font-weight: bold\"> Output Shape                </span>┃<span style=\"font-weight: bold\">         Param # </span>┃\n",
       "┡━━━━━━━━━━━━━━━━━━━━━━━━━━━━━━━━━━━━━━╇━━━━━━━━━━━━━━━━━━━━━━━━━━━━━╇━━━━━━━━━━━━━━━━━┩\n",
       "│ conv2d_10 (<span style=\"color: #0087ff; text-decoration-color: #0087ff\">Conv2D</span>)                   │ (<span style=\"color: #00d7ff; text-decoration-color: #00d7ff\">None</span>, <span style=\"color: #00af00; text-decoration-color: #00af00\">31</span>, <span style=\"color: #00af00; text-decoration-color: #00af00\">98</span>, <span style=\"color: #00af00; text-decoration-color: #00af00\">24</span>)          │           <span style=\"color: #00af00; text-decoration-color: #00af00\">1,824</span> │\n",
       "├──────────────────────────────────────┼─────────────────────────────┼─────────────────┤\n",
       "│ conv2d_11 (<span style=\"color: #0087ff; text-decoration-color: #0087ff\">Conv2D</span>)                   │ (<span style=\"color: #00d7ff; text-decoration-color: #00d7ff\">None</span>, <span style=\"color: #00af00; text-decoration-color: #00af00\">14</span>, <span style=\"color: #00af00; text-decoration-color: #00af00\">47</span>, <span style=\"color: #00af00; text-decoration-color: #00af00\">36</span>)          │          <span style=\"color: #00af00; text-decoration-color: #00af00\">21,636</span> │\n",
       "├──────────────────────────────────────┼─────────────────────────────┼─────────────────┤\n",
       "│ conv2d_12 (<span style=\"color: #0087ff; text-decoration-color: #0087ff\">Conv2D</span>)                   │ (<span style=\"color: #00d7ff; text-decoration-color: #00d7ff\">None</span>, <span style=\"color: #00af00; text-decoration-color: #00af00\">5</span>, <span style=\"color: #00af00; text-decoration-color: #00af00\">22</span>, <span style=\"color: #00af00; text-decoration-color: #00af00\">48</span>)           │          <span style=\"color: #00af00; text-decoration-color: #00af00\">43,248</span> │\n",
       "├──────────────────────────────────────┼─────────────────────────────┼─────────────────┤\n",
       "│ conv2d_13 (<span style=\"color: #0087ff; text-decoration-color: #0087ff\">Conv2D</span>)                   │ (<span style=\"color: #00d7ff; text-decoration-color: #00d7ff\">None</span>, <span style=\"color: #00af00; text-decoration-color: #00af00\">3</span>, <span style=\"color: #00af00; text-decoration-color: #00af00\">20</span>, <span style=\"color: #00af00; text-decoration-color: #00af00\">64</span>)           │          <span style=\"color: #00af00; text-decoration-color: #00af00\">27,712</span> │\n",
       "├──────────────────────────────────────┼─────────────────────────────┼─────────────────┤\n",
       "│ conv2d_14 (<span style=\"color: #0087ff; text-decoration-color: #0087ff\">Conv2D</span>)                   │ (<span style=\"color: #00d7ff; text-decoration-color: #00d7ff\">None</span>, <span style=\"color: #00af00; text-decoration-color: #00af00\">1</span>, <span style=\"color: #00af00; text-decoration-color: #00af00\">18</span>, <span style=\"color: #00af00; text-decoration-color: #00af00\">64</span>)           │          <span style=\"color: #00af00; text-decoration-color: #00af00\">36,928</span> │\n",
       "├──────────────────────────────────────┼─────────────────────────────┼─────────────────┤\n",
       "│ dropout_8 (<span style=\"color: #0087ff; text-decoration-color: #0087ff\">Dropout</span>)                  │ (<span style=\"color: #00d7ff; text-decoration-color: #00d7ff\">None</span>, <span style=\"color: #00af00; text-decoration-color: #00af00\">1</span>, <span style=\"color: #00af00; text-decoration-color: #00af00\">18</span>, <span style=\"color: #00af00; text-decoration-color: #00af00\">64</span>)           │               <span style=\"color: #00af00; text-decoration-color: #00af00\">0</span> │\n",
       "├──────────────────────────────────────┼─────────────────────────────┼─────────────────┤\n",
       "│ flatten_2 (<span style=\"color: #0087ff; text-decoration-color: #0087ff\">Flatten</span>)                  │ (<span style=\"color: #00d7ff; text-decoration-color: #00d7ff\">None</span>, <span style=\"color: #00af00; text-decoration-color: #00af00\">1152</span>)                │               <span style=\"color: #00af00; text-decoration-color: #00af00\">0</span> │\n",
       "├──────────────────────────────────────┼─────────────────────────────┼─────────────────┤\n",
       "│ dense_8 (<span style=\"color: #0087ff; text-decoration-color: #0087ff\">Dense</span>)                      │ (<span style=\"color: #00d7ff; text-decoration-color: #00d7ff\">None</span>, <span style=\"color: #00af00; text-decoration-color: #00af00\">100</span>)                 │         <span style=\"color: #00af00; text-decoration-color: #00af00\">115,300</span> │\n",
       "├──────────────────────────────────────┼─────────────────────────────┼─────────────────┤\n",
       "│ dropout_9 (<span style=\"color: #0087ff; text-decoration-color: #0087ff\">Dropout</span>)                  │ (<span style=\"color: #00d7ff; text-decoration-color: #00d7ff\">None</span>, <span style=\"color: #00af00; text-decoration-color: #00af00\">100</span>)                 │               <span style=\"color: #00af00; text-decoration-color: #00af00\">0</span> │\n",
       "├──────────────────────────────────────┼─────────────────────────────┼─────────────────┤\n",
       "│ dense_9 (<span style=\"color: #0087ff; text-decoration-color: #0087ff\">Dense</span>)                      │ (<span style=\"color: #00d7ff; text-decoration-color: #00d7ff\">None</span>, <span style=\"color: #00af00; text-decoration-color: #00af00\">50</span>)                  │           <span style=\"color: #00af00; text-decoration-color: #00af00\">5,050</span> │\n",
       "├──────────────────────────────────────┼─────────────────────────────┼─────────────────┤\n",
       "│ dropout_10 (<span style=\"color: #0087ff; text-decoration-color: #0087ff\">Dropout</span>)                 │ (<span style=\"color: #00d7ff; text-decoration-color: #00d7ff\">None</span>, <span style=\"color: #00af00; text-decoration-color: #00af00\">50</span>)                  │               <span style=\"color: #00af00; text-decoration-color: #00af00\">0</span> │\n",
       "├──────────────────────────────────────┼─────────────────────────────┼─────────────────┤\n",
       "│ dense_10 (<span style=\"color: #0087ff; text-decoration-color: #0087ff\">Dense</span>)                     │ (<span style=\"color: #00d7ff; text-decoration-color: #00d7ff\">None</span>, <span style=\"color: #00af00; text-decoration-color: #00af00\">10</span>)                  │             <span style=\"color: #00af00; text-decoration-color: #00af00\">510</span> │\n",
       "├──────────────────────────────────────┼─────────────────────────────┼─────────────────┤\n",
       "│ dropout_11 (<span style=\"color: #0087ff; text-decoration-color: #0087ff\">Dropout</span>)                 │ (<span style=\"color: #00d7ff; text-decoration-color: #00d7ff\">None</span>, <span style=\"color: #00af00; text-decoration-color: #00af00\">10</span>)                  │               <span style=\"color: #00af00; text-decoration-color: #00af00\">0</span> │\n",
       "├──────────────────────────────────────┼─────────────────────────────┼─────────────────┤\n",
       "│ dense_11 (<span style=\"color: #0087ff; text-decoration-color: #0087ff\">Dense</span>)                     │ (<span style=\"color: #00d7ff; text-decoration-color: #00d7ff\">None</span>, <span style=\"color: #00af00; text-decoration-color: #00af00\">1</span>)                   │              <span style=\"color: #00af00; text-decoration-color: #00af00\">11</span> │\n",
       "└──────────────────────────────────────┴─────────────────────────────┴─────────────────┘\n",
       "</pre>\n"
      ],
      "text/plain": [
       "┏━━━━━━━━━━━━━━━━━━━━━━━━━━━━━━━━━━━━━━┳━━━━━━━━━━━━━━━━━━━━━━━━━━━━━┳━━━━━━━━━━━━━━━━━┓\n",
       "┃\u001b[1m \u001b[0m\u001b[1mLayer (type)                        \u001b[0m\u001b[1m \u001b[0m┃\u001b[1m \u001b[0m\u001b[1mOutput Shape               \u001b[0m\u001b[1m \u001b[0m┃\u001b[1m \u001b[0m\u001b[1m        Param #\u001b[0m\u001b[1m \u001b[0m┃\n",
       "┡━━━━━━━━━━━━━━━━━━━━━━━━━━━━━━━━━━━━━━╇━━━━━━━━━━━━━━━━━━━━━━━━━━━━━╇━━━━━━━━━━━━━━━━━┩\n",
       "│ conv2d_10 (\u001b[38;5;33mConv2D\u001b[0m)                   │ (\u001b[38;5;45mNone\u001b[0m, \u001b[38;5;34m31\u001b[0m, \u001b[38;5;34m98\u001b[0m, \u001b[38;5;34m24\u001b[0m)          │           \u001b[38;5;34m1,824\u001b[0m │\n",
       "├──────────────────────────────────────┼─────────────────────────────┼─────────────────┤\n",
       "│ conv2d_11 (\u001b[38;5;33mConv2D\u001b[0m)                   │ (\u001b[38;5;45mNone\u001b[0m, \u001b[38;5;34m14\u001b[0m, \u001b[38;5;34m47\u001b[0m, \u001b[38;5;34m36\u001b[0m)          │          \u001b[38;5;34m21,636\u001b[0m │\n",
       "├──────────────────────────────────────┼─────────────────────────────┼─────────────────┤\n",
       "│ conv2d_12 (\u001b[38;5;33mConv2D\u001b[0m)                   │ (\u001b[38;5;45mNone\u001b[0m, \u001b[38;5;34m5\u001b[0m, \u001b[38;5;34m22\u001b[0m, \u001b[38;5;34m48\u001b[0m)           │          \u001b[38;5;34m43,248\u001b[0m │\n",
       "├──────────────────────────────────────┼─────────────────────────────┼─────────────────┤\n",
       "│ conv2d_13 (\u001b[38;5;33mConv2D\u001b[0m)                   │ (\u001b[38;5;45mNone\u001b[0m, \u001b[38;5;34m3\u001b[0m, \u001b[38;5;34m20\u001b[0m, \u001b[38;5;34m64\u001b[0m)           │          \u001b[38;5;34m27,712\u001b[0m │\n",
       "├──────────────────────────────────────┼─────────────────────────────┼─────────────────┤\n",
       "│ conv2d_14 (\u001b[38;5;33mConv2D\u001b[0m)                   │ (\u001b[38;5;45mNone\u001b[0m, \u001b[38;5;34m1\u001b[0m, \u001b[38;5;34m18\u001b[0m, \u001b[38;5;34m64\u001b[0m)           │          \u001b[38;5;34m36,928\u001b[0m │\n",
       "├──────────────────────────────────────┼─────────────────────────────┼─────────────────┤\n",
       "│ dropout_8 (\u001b[38;5;33mDropout\u001b[0m)                  │ (\u001b[38;5;45mNone\u001b[0m, \u001b[38;5;34m1\u001b[0m, \u001b[38;5;34m18\u001b[0m, \u001b[38;5;34m64\u001b[0m)           │               \u001b[38;5;34m0\u001b[0m │\n",
       "├──────────────────────────────────────┼─────────────────────────────┼─────────────────┤\n",
       "│ flatten_2 (\u001b[38;5;33mFlatten\u001b[0m)                  │ (\u001b[38;5;45mNone\u001b[0m, \u001b[38;5;34m1152\u001b[0m)                │               \u001b[38;5;34m0\u001b[0m │\n",
       "├──────────────────────────────────────┼─────────────────────────────┼─────────────────┤\n",
       "│ dense_8 (\u001b[38;5;33mDense\u001b[0m)                      │ (\u001b[38;5;45mNone\u001b[0m, \u001b[38;5;34m100\u001b[0m)                 │         \u001b[38;5;34m115,300\u001b[0m │\n",
       "├──────────────────────────────────────┼─────────────────────────────┼─────────────────┤\n",
       "│ dropout_9 (\u001b[38;5;33mDropout\u001b[0m)                  │ (\u001b[38;5;45mNone\u001b[0m, \u001b[38;5;34m100\u001b[0m)                 │               \u001b[38;5;34m0\u001b[0m │\n",
       "├──────────────────────────────────────┼─────────────────────────────┼─────────────────┤\n",
       "│ dense_9 (\u001b[38;5;33mDense\u001b[0m)                      │ (\u001b[38;5;45mNone\u001b[0m, \u001b[38;5;34m50\u001b[0m)                  │           \u001b[38;5;34m5,050\u001b[0m │\n",
       "├──────────────────────────────────────┼─────────────────────────────┼─────────────────┤\n",
       "│ dropout_10 (\u001b[38;5;33mDropout\u001b[0m)                 │ (\u001b[38;5;45mNone\u001b[0m, \u001b[38;5;34m50\u001b[0m)                  │               \u001b[38;5;34m0\u001b[0m │\n",
       "├──────────────────────────────────────┼─────────────────────────────┼─────────────────┤\n",
       "│ dense_10 (\u001b[38;5;33mDense\u001b[0m)                     │ (\u001b[38;5;45mNone\u001b[0m, \u001b[38;5;34m10\u001b[0m)                  │             \u001b[38;5;34m510\u001b[0m │\n",
       "├──────────────────────────────────────┼─────────────────────────────┼─────────────────┤\n",
       "│ dropout_11 (\u001b[38;5;33mDropout\u001b[0m)                 │ (\u001b[38;5;45mNone\u001b[0m, \u001b[38;5;34m10\u001b[0m)                  │               \u001b[38;5;34m0\u001b[0m │\n",
       "├──────────────────────────────────────┼─────────────────────────────┼─────────────────┤\n",
       "│ dense_11 (\u001b[38;5;33mDense\u001b[0m)                     │ (\u001b[38;5;45mNone\u001b[0m, \u001b[38;5;34m1\u001b[0m)                   │              \u001b[38;5;34m11\u001b[0m │\n",
       "└──────────────────────────────────────┴─────────────────────────────┴─────────────────┘\n"
      ]
     },
     "metadata": {},
     "output_type": "display_data"
    },
    {
     "data": {
      "text/html": [
       "<pre style=\"white-space:pre;overflow-x:auto;line-height:normal;font-family:Menlo,'DejaVu Sans Mono',consolas,'Courier New',monospace\"><span style=\"font-weight: bold\"> Total params: </span><span style=\"color: #00af00; text-decoration-color: #00af00\">252,219</span> (985.23 KB)\n",
       "</pre>\n"
      ],
      "text/plain": [
       "\u001b[1m Total params: \u001b[0m\u001b[38;5;34m252,219\u001b[0m (985.23 KB)\n"
      ]
     },
     "metadata": {},
     "output_type": "display_data"
    },
    {
     "data": {
      "text/html": [
       "<pre style=\"white-space:pre;overflow-x:auto;line-height:normal;font-family:Menlo,'DejaVu Sans Mono',consolas,'Courier New',monospace\"><span style=\"font-weight: bold\"> Trainable params: </span><span style=\"color: #00af00; text-decoration-color: #00af00\">252,219</span> (985.23 KB)\n",
       "</pre>\n"
      ],
      "text/plain": [
       "\u001b[1m Trainable params: \u001b[0m\u001b[38;5;34m252,219\u001b[0m (985.23 KB)\n"
      ]
     },
     "metadata": {},
     "output_type": "display_data"
    },
    {
     "data": {
      "text/html": [
       "<pre style=\"white-space:pre;overflow-x:auto;line-height:normal;font-family:Menlo,'DejaVu Sans Mono',consolas,'Courier New',monospace\"><span style=\"font-weight: bold\"> Non-trainable params: </span><span style=\"color: #00af00; text-decoration-color: #00af00\">0</span> (0.00 B)\n",
       "</pre>\n"
      ],
      "text/plain": [
       "\u001b[1m Non-trainable params: \u001b[0m\u001b[38;5;34m0\u001b[0m (0.00 B)\n"
      ]
     },
     "metadata": {},
     "output_type": "display_data"
    },
    {
     "name": "stdout",
     "output_type": "stream",
     "text": [
      "None\n"
     ]
    }
   ],
   "source": [
    "model = nvidiaModel()\n",
    "print(model.summary())"
   ]
  },
  {
   "cell_type": "code",
   "execution_count": 84,
   "id": "395e7398-437e-4a9b-8f85-d27651589341",
   "metadata": {},
   "outputs": [
    {
     "name": "stdout",
     "output_type": "stream",
     "text": [
      "Epoch 1/10\n",
      "\u001b[1m300/300\u001b[0m \u001b[32m━━━━━━━━━━━━━━━━━━━━\u001b[0m\u001b[37m\u001b[0m \u001b[1m145s\u001b[0m 466ms/step - loss: 0.1547 - val_loss: 0.0589\n",
      "Epoch 2/10\n",
      "\u001b[1m300/300\u001b[0m \u001b[32m━━━━━━━━━━━━━━━━━━━━\u001b[0m\u001b[37m\u001b[0m \u001b[1m135s\u001b[0m 450ms/step - loss: 0.0660 - val_loss: 0.0546\n",
      "Epoch 3/10\n",
      "\u001b[1m300/300\u001b[0m \u001b[32m━━━━━━━━━━━━━━━━━━━━\u001b[0m\u001b[37m\u001b[0m \u001b[1m139s\u001b[0m 465ms/step - loss: 0.0626 - val_loss: 0.0529\n",
      "Epoch 4/10\n",
      "\u001b[1m300/300\u001b[0m \u001b[32m━━━━━━━━━━━━━━━━━━━━\u001b[0m\u001b[37m\u001b[0m \u001b[1m135s\u001b[0m 451ms/step - loss: 0.0605 - val_loss: 0.0563\n",
      "Epoch 5/10\n",
      "\u001b[1m300/300\u001b[0m \u001b[32m━━━━━━━━━━━━━━━━━━━━\u001b[0m\u001b[37m\u001b[0m \u001b[1m138s\u001b[0m 461ms/step - loss: 0.0591 - val_loss: 0.0475\n",
      "Epoch 6/10\n",
      "\u001b[1m300/300\u001b[0m \u001b[32m━━━━━━━━━━━━━━━━━━━━\u001b[0m\u001b[37m\u001b[0m \u001b[1m132s\u001b[0m 440ms/step - loss: 0.0614 - val_loss: 0.0491\n",
      "Epoch 7/10\n",
      "\u001b[1m300/300\u001b[0m \u001b[32m━━━━━━━━━━━━━━━━━━━━\u001b[0m\u001b[37m\u001b[0m \u001b[1m132s\u001b[0m 442ms/step - loss: 0.0580 - val_loss: 0.0458\n",
      "Epoch 8/10\n",
      "\u001b[1m300/300\u001b[0m \u001b[32m━━━━━━━━━━━━━━━━━━━━\u001b[0m\u001b[37m\u001b[0m \u001b[1m132s\u001b[0m 440ms/step - loss: 0.0571 - val_loss: 0.0440\n",
      "Epoch 9/10\n",
      "\u001b[1m300/300\u001b[0m \u001b[32m━━━━━━━━━━━━━━━━━━━━\u001b[0m\u001b[37m\u001b[0m \u001b[1m132s\u001b[0m 440ms/step - loss: 0.0564 - val_loss: 0.0450\n",
      "Epoch 10/10\n",
      "\u001b[1m300/300\u001b[0m \u001b[32m━━━━━━━━━━━━━━━━━━━━\u001b[0m\u001b[37m\u001b[0m \u001b[1m133s\u001b[0m 444ms/step - loss: 0.0551 - val_loss: 0.0453\n"
     ]
    }
   ],
   "source": [
    "history = model.fit(batch_generator(X_train, y_train, 100, 1),\n",
    "                                  steps_per_epoch=300, \n",
    "                                  epochs=10,\n",
    "                                  validation_data=batch_generator(X_valid, y_valid, 100, 0),\n",
    "                                  validation_steps=200,\n",
    "                                  verbose=1,\n",
    "                                  shuffle = 1)"
   ]
  },
  {
   "cell_type": "code",
   "execution_count": 85,
   "id": "22fcede0-17fb-455c-bda9-84137f3fe4f2",
   "metadata": {},
   "outputs": [
    {
     "name": "stderr",
     "output_type": "stream",
     "text": [
      "WARNING:absl:You are saving your model as an HDF5 file via `model.save()` or `keras.saving.save_model(model)`. This file format is considered legacy. We recommend using instead the native Keras format, e.g. `model.save('my_model.keras')` or `keras.saving.save_model(model, 'my_model.keras')`. \n"
     ]
    }
   ],
   "source": [
    "model.save('my_model.h5')"
   ]
  },
  {
   "cell_type": "code",
   "execution_count": 86,
   "id": "1011260a-bb0d-4e80-8bc8-fe0b06b5cbde",
   "metadata": {},
   "outputs": [],
   "source": [
    "model.save('my_model.keras')"
   ]
  },
  {
   "cell_type": "code",
   "execution_count": null,
   "id": "23c5fabb-ef07-4e50-9aff-2480a091c4b3",
   "metadata": {},
   "outputs": [],
   "source": []
  }
 ],
 "metadata": {
  "kernelspec": {
   "display_name": "Python 3 (ipykernel)",
   "language": "python",
   "name": "python3"
  },
  "language_info": {
   "codemirror_mode": {
    "name": "ipython",
    "version": 3
   },
   "file_extension": ".py",
   "mimetype": "text/x-python",
   "name": "python",
   "nbconvert_exporter": "python",
   "pygments_lexer": "ipython3",
   "version": "3.11.7"
  }
 },
 "nbformat": 4,
 "nbformat_minor": 5
}
